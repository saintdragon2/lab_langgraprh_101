{
 "cells": [
  {
   "cell_type": "markdown",
   "metadata": {},
   "source": [
    "# 단순한 챗봇을 만들자. \n",
    "## 이 코드에서 알아야 할 개념\n",
    "- State\n",
    "- Node\n",
    "- Edge"
   ]
  },
  {
   "cell_type": "code",
   "execution_count": 1,
   "metadata": {},
   "outputs": [
    {
     "name": "stdout",
     "output_type": "stream",
     "text": [
      "Requirement already satisfied: langgraph in c:\\github\\lab_langgraprh_101\\venv\\lib\\site-packages (0.3.18)\n",
      "Requirement already satisfied: langchain in c:\\github\\lab_langgraprh_101\\venv\\lib\\site-packages (0.3.21)\n",
      "Requirement already satisfied: langchain_openai in c:\\github\\lab_langgraprh_101\\venv\\lib\\site-packages (0.3.9)\n",
      "Requirement already satisfied: langchain-core<0.4,>=0.1 in c:\\github\\lab_langgraprh_101\\venv\\lib\\site-packages (from langgraph) (0.3.47)\n",
      "Requirement already satisfied: langgraph-checkpoint<3.0.0,>=2.0.10 in c:\\github\\lab_langgraprh_101\\venv\\lib\\site-packages (from langgraph) (2.0.21)\n",
      "Requirement already satisfied: langgraph-prebuilt<0.2,>=0.1.1 in c:\\github\\lab_langgraprh_101\\venv\\lib\\site-packages (from langgraph) (0.1.4)\n",
      "Requirement already satisfied: langgraph-sdk<0.2.0,>=0.1.42 in c:\\github\\lab_langgraprh_101\\venv\\lib\\site-packages (from langgraph) (0.1.58)\n",
      "Requirement already satisfied: langchain-text-splitters<1.0.0,>=0.3.7 in c:\\github\\lab_langgraprh_101\\venv\\lib\\site-packages (from langchain) (0.3.7)\n",
      "Requirement already satisfied: langsmith<0.4,>=0.1.17 in c:\\github\\lab_langgraprh_101\\venv\\lib\\site-packages (from langchain) (0.3.18)\n",
      "Requirement already satisfied: pydantic<3.0.0,>=2.7.4 in c:\\github\\lab_langgraprh_101\\venv\\lib\\site-packages (from langchain) (2.10.6)\n",
      "Requirement already satisfied: SQLAlchemy<3,>=1.4 in c:\\github\\lab_langgraprh_101\\venv\\lib\\site-packages (from langchain) (2.0.39)\n",
      "Requirement already satisfied: requests<3,>=2 in c:\\github\\lab_langgraprh_101\\venv\\lib\\site-packages (from langchain) (2.32.3)\n",
      "Requirement already satisfied: PyYAML>=5.3 in c:\\github\\lab_langgraprh_101\\venv\\lib\\site-packages (from langchain) (6.0.2)\n",
      "Requirement already satisfied: openai<2.0.0,>=1.66.3 in c:\\github\\lab_langgraprh_101\\venv\\lib\\site-packages (from langchain_openai) (1.68.2)\n",
      "Requirement already satisfied: tiktoken<1,>=0.7 in c:\\github\\lab_langgraprh_101\\venv\\lib\\site-packages (from langchain_openai) (0.9.0)\n",
      "Requirement already satisfied: tenacity!=8.4.0,<10.0.0,>=8.1.0 in c:\\github\\lab_langgraprh_101\\venv\\lib\\site-packages (from langchain-core<0.4,>=0.1->langgraph) (9.0.0)\n",
      "Requirement already satisfied: jsonpatch<2.0,>=1.33 in c:\\github\\lab_langgraprh_101\\venv\\lib\\site-packages (from langchain-core<0.4,>=0.1->langgraph) (1.33)\n",
      "Requirement already satisfied: packaging<25,>=23.2 in c:\\github\\lab_langgraprh_101\\venv\\lib\\site-packages (from langchain-core<0.4,>=0.1->langgraph) (24.2)\n",
      "Requirement already satisfied: typing-extensions>=4.7 in c:\\github\\lab_langgraprh_101\\venv\\lib\\site-packages (from langchain-core<0.4,>=0.1->langgraph) (4.12.2)\n",
      "Requirement already satisfied: msgpack<2.0.0,>=1.1.0 in c:\\github\\lab_langgraprh_101\\venv\\lib\\site-packages (from langgraph-checkpoint<3.0.0,>=2.0.10->langgraph) (1.1.0)\n",
      "Requirement already satisfied: httpx>=0.25.2 in c:\\github\\lab_langgraprh_101\\venv\\lib\\site-packages (from langgraph-sdk<0.2.0,>=0.1.42->langgraph) (0.28.1)\n",
      "Requirement already satisfied: orjson>=3.10.1 in c:\\github\\lab_langgraprh_101\\venv\\lib\\site-packages (from langgraph-sdk<0.2.0,>=0.1.42->langgraph) (3.10.15)\n",
      "Requirement already satisfied: requests-toolbelt<2.0.0,>=1.0.0 in c:\\github\\lab_langgraprh_101\\venv\\lib\\site-packages (from langsmith<0.4,>=0.1.17->langchain) (1.0.0)\n",
      "Requirement already satisfied: zstandard<0.24.0,>=0.23.0 in c:\\github\\lab_langgraprh_101\\venv\\lib\\site-packages (from langsmith<0.4,>=0.1.17->langchain) (0.23.0)\n",
      "Requirement already satisfied: anyio<5,>=3.5.0 in c:\\github\\lab_langgraprh_101\\venv\\lib\\site-packages (from openai<2.0.0,>=1.66.3->langchain_openai) (4.9.0)\n",
      "Requirement already satisfied: distro<2,>=1.7.0 in c:\\github\\lab_langgraprh_101\\venv\\lib\\site-packages (from openai<2.0.0,>=1.66.3->langchain_openai) (1.9.0)\n",
      "Requirement already satisfied: jiter<1,>=0.4.0 in c:\\github\\lab_langgraprh_101\\venv\\lib\\site-packages (from openai<2.0.0,>=1.66.3->langchain_openai) (0.9.0)\n",
      "Requirement already satisfied: sniffio in c:\\github\\lab_langgraprh_101\\venv\\lib\\site-packages (from openai<2.0.0,>=1.66.3->langchain_openai) (1.3.1)\n",
      "Requirement already satisfied: tqdm>4 in c:\\github\\lab_langgraprh_101\\venv\\lib\\site-packages (from openai<2.0.0,>=1.66.3->langchain_openai) (4.67.1)\n",
      "Requirement already satisfied: annotated-types>=0.6.0 in c:\\github\\lab_langgraprh_101\\venv\\lib\\site-packages (from pydantic<3.0.0,>=2.7.4->langchain) (0.7.0)\n",
      "Requirement already satisfied: pydantic-core==2.27.2 in c:\\github\\lab_langgraprh_101\\venv\\lib\\site-packages (from pydantic<3.0.0,>=2.7.4->langchain) (2.27.2)\n",
      "Requirement already satisfied: charset-normalizer<4,>=2 in c:\\github\\lab_langgraprh_101\\venv\\lib\\site-packages (from requests<3,>=2->langchain) (3.4.1)\n",
      "Requirement already satisfied: idna<4,>=2.5 in c:\\github\\lab_langgraprh_101\\venv\\lib\\site-packages (from requests<3,>=2->langchain) (3.10)\n",
      "Requirement already satisfied: urllib3<3,>=1.21.1 in c:\\github\\lab_langgraprh_101\\venv\\lib\\site-packages (from requests<3,>=2->langchain) (2.3.0)\n",
      "Requirement already satisfied: certifi>=2017.4.17 in c:\\github\\lab_langgraprh_101\\venv\\lib\\site-packages (from requests<3,>=2->langchain) (2025.1.31)\n",
      "Requirement already satisfied: greenlet!=0.4.17 in c:\\github\\lab_langgraprh_101\\venv\\lib\\site-packages (from SQLAlchemy<3,>=1.4->langchain) (3.1.1)\n",
      "Requirement already satisfied: regex>=2022.1.18 in c:\\github\\lab_langgraprh_101\\venv\\lib\\site-packages (from tiktoken<1,>=0.7->langchain_openai) (2024.11.6)\n",
      "Requirement already satisfied: httpcore==1.* in c:\\github\\lab_langgraprh_101\\venv\\lib\\site-packages (from httpx>=0.25.2->langgraph-sdk<0.2.0,>=0.1.42->langgraph) (1.0.7)\n",
      "Requirement already satisfied: h11<0.15,>=0.13 in c:\\github\\lab_langgraprh_101\\venv\\lib\\site-packages (from httpcore==1.*->httpx>=0.25.2->langgraph-sdk<0.2.0,>=0.1.42->langgraph) (0.14.0)\n",
      "Requirement already satisfied: jsonpointer>=1.9 in c:\\github\\lab_langgraprh_101\\venv\\lib\\site-packages (from jsonpatch<2.0,>=1.33->langchain-core<0.4,>=0.1->langgraph) (3.0.0)\n",
      "Requirement already satisfied: colorama in c:\\github\\lab_langgraprh_101\\venv\\lib\\site-packages (from tqdm>4->openai<2.0.0,>=1.66.3->langchain_openai) (0.4.6)\n",
      "Note: you may need to restart the kernel to use updated packages.\n"
     ]
    },
    {
     "name": "stderr",
     "output_type": "stream",
     "text": [
      "\n",
      "[notice] A new release of pip is available: 24.3.1 -> 25.0.1\n",
      "[notice] To update, run: python.exe -m pip install --upgrade pip\n"
     ]
    }
   ],
   "source": [
    "%pip install langgraph langchain langchain_openai"
   ]
  },
  {
   "cell_type": "code",
   "execution_count": 2,
   "metadata": {},
   "outputs": [
    {
     "data": {
      "text/plain": [
       "AIMessage(content='안녕하세요! 어떻게 도와드릴까요?', additional_kwargs={'refusal': None}, response_metadata={'token_usage': {'completion_tokens': 11, 'prompt_tokens': 10, 'total_tokens': 21, 'completion_tokens_details': {'accepted_prediction_tokens': 0, 'audio_tokens': 0, 'reasoning_tokens': 0, 'rejected_prediction_tokens': 0}, 'prompt_tokens_details': {'audio_tokens': 0, 'cached_tokens': 0}}, 'model_name': 'gpt-4o-mini-2024-07-18', 'system_fingerprint': 'fp_e4fa3702df', 'id': 'chatcmpl-BDslTlc1EtAnCL70LK4El9iZoRimb', 'finish_reason': 'stop', 'logprobs': None}, id='run-b5019d37-63ef-4223-b4a9-ae14001a0bfd-0', usage_metadata={'input_tokens': 10, 'output_tokens': 11, 'total_tokens': 21, 'input_token_details': {'audio': 0, 'cache_read': 0}, 'output_token_details': {'audio': 0, 'reasoning': 0}})"
      ]
     },
     "execution_count": 2,
     "metadata": {},
     "output_type": "execute_result"
    }
   ],
   "source": [
    "from langchain_openai import ChatOpenAI\n",
    "from langchain_core.messages import HumanMessage\n",
    "\n",
    "# 모델 초기화\n",
    "llm = ChatOpenAI(model=\"gpt-4o-mini\")\n",
    "\n",
    "llm.invoke([\n",
    "    HumanMessage(content=\"안녕하세요!\"),\n",
    "])"
   ]
  },
  {
   "cell_type": "markdown",
   "metadata": {},
   "source": [
    "## STATE\n",
    "- 현재 상태를 담아두기 위해 사용"
   ]
  },
  {
   "cell_type": "code",
   "execution_count": 3,
   "metadata": {},
   "outputs": [],
   "source": [
    "from typing import Annotated # annotated는 타입 힌트를 사용할 때 사용하는 함수\n",
    "from typing_extensions import TypedDict # TypedDict는 딕셔너리 타입을 정의할 때 사용하는 함수\n",
    "\n",
    "from langgraph.graph import StateGraph, START, END\n",
    "from langgraph.graph.message import add_messages\n",
    "\n",
    "class State(TypedDict):\t#①\n",
    "    \"\"\"\n",
    "    State 클래스는 TypedDict를 상속받습니다.\n",
    "\n",
    "    속성:\n",
    "        messages (Annotated[list[str], add_messages]): 메시지들은 \"list\" 타입을 가집니다.   #②\n",
    "       'add_messages' 함수는 이 상태 키가 어떻게 업데이트되어야 하는지를 정의합니다.  #③\n",
    "        (이 경우, 메시지를 덮어쓰는 대신 리스트에 추가합니다)\n",
    "    \"\"\"\n",
    "    messages: Annotated[list[str], add_messages]\t#②\n",
    "\n",
    "# StateGraph 클래스를 사용하여 State 타입의 그래프를 생성합니다.\n",
    "graph_builder = StateGraph(State) #④"
   ]
  },
  {
   "cell_type": "markdown",
   "metadata": {},
   "source": [
    "## Node\n",
    "- 하나의 에이전트라고 봐도 무방"
   ]
  },
  {
   "cell_type": "code",
   "execution_count": 4,
   "metadata": {},
   "outputs": [
    {
     "data": {
      "text/plain": [
       "<langgraph.graph.state.StateGraph at 0x129f63a33e0>"
      ]
     },
     "execution_count": 4,
     "metadata": {},
     "output_type": "execute_result"
    }
   ],
   "source": [
    "def generate(state: State):\t#①\n",
    "    \"\"\"\n",
    "    주어진 상태를 기반으로 챗봇의 응답 메시지를 생성합니다.\n",
    "\n",
    "    매개변수:\n",
    "    state (State): 현재 대화 상태를 나타내는 객체로, 이전 메시지들이 포함되어 있습니다.\n",
    "\t\t\n",
    "    반환값:\n",
    "    dict: 모델이 생성한 응답 메시지를 포함하는 딕셔너리. \n",
    "          형식은 {\"messages\": [응답 메시지]}입니다.\n",
    "    \"\"\" \n",
    "    return {\"messages\": [llm.invoke(state[\"messages\"])]}\t#② llm이 생성한 응답메시지를 state에 추가하고 반환\n",
    "\n",
    "graph_builder.add_node(\"generate\", generate)\t#③"
   ]
  },
  {
   "cell_type": "markdown",
   "metadata": {},
   "source": [
    "## LangGraph라 부르는 이유:\n",
    "- 각각의 agent (node)를 edge로 연결하는 방식이기 때문.\n",
    "- 이번 예제는 START - generate - END 로 간략한 형태\n",
    "\n",
    "\n",
    "### Edge"
   ]
  },
  {
   "cell_type": "code",
   "execution_count": 5,
   "metadata": {},
   "outputs": [],
   "source": [
    "graph_builder.add_edge(START, \"generate\")\n",
    "graph_builder.add_edge(\"generate\", END)    \n",
    "\n",
    "graph = graph_builder.compile()"
   ]
  },
  {
   "cell_type": "code",
   "execution_count": 6,
   "metadata": {},
   "outputs": [
    {
     "data": {
      "image/png": "[encoded data removed]",
      "text/plain": [
       "<IPython.core.display.Image object>"
      ]
     },
     "metadata": {},
     "output_type": "display_data"
    }
   ],
   "source": [
    "from IPython.display import Image, display\n",
    "\n",
    "try:\n",
    "    display(Image(graph.get_graph().draw_mermaid_png()))\n",
    "except Exception: \n",
    "    pass"
   ]
  },
  {
   "cell_type": "code",
   "execution_count": 7,
   "metadata": {},
   "outputs": [
    {
     "name": "stdout",
     "output_type": "stream",
     "text": [
      "<class 'langgraph.pregel.io.AddableValuesDict'>\n"
     ]
    },
    {
     "data": {
      "text/plain": [
       "{'messages': [HumanMessage(content='안녕하세요! 저는 이성용입니다', additional_kwargs={}, response_metadata={}, id='dfffdb24-71c8-483e-a97b-9af8dd4c323b'),\n",
       "  AIMessage(content='안녕하세요, 이성용님! 만나서 반갑습니다. 어떻게 도와드릴까요?', additional_kwargs={'refusal': None}, response_metadata={'token_usage': {'completion_tokens': 22, 'prompt_tokens': 15, 'total_tokens': 37, 'completion_tokens_details': {'accepted_prediction_tokens': 0, 'audio_tokens': 0, 'reasoning_tokens': 0, 'rejected_prediction_tokens': 0}, 'prompt_tokens_details': {'audio_tokens': 0, 'cached_tokens': 0}}, 'model_name': 'gpt-4o-mini-2024-07-18', 'system_fingerprint': 'fp_b8bc95a0ac', 'id': 'chatcmpl-BDslfQxE3ngXwcDtWqvyLWabgvjjL', 'finish_reason': 'stop', 'logprobs': None}, id='run-7a3838c1-c157-48aa-bfeb-eac1d00a397b-0', usage_metadata={'input_tokens': 15, 'output_tokens': 22, 'total_tokens': 37, 'input_token_details': {'audio': 0, 'cache_read': 0}, 'output_token_details': {'audio': 0, 'reasoning': 0}})]}"
      ]
     },
     "execution_count": 7,
     "metadata": {},
     "output_type": "execute_result"
    }
   ],
   "source": [
    "response = graph.invoke({\"messages\": [\"안녕하세요! 저는 이성용입니다\"]})\n",
    "\n",
    "print(type(response))\n",
    "response"
   ]
  },
  {
   "cell_type": "code",
   "execution_count": 8,
   "metadata": {},
   "outputs": [
    {
     "data": {
      "text/plain": [
       "{'messages': [HumanMessage(content='안녕하세요! 저는 이성용입니다', additional_kwargs={}, response_metadata={}, id='dfffdb24-71c8-483e-a97b-9af8dd4c323b'),\n",
       "  AIMessage(content='안녕하세요, 이성용님! 만나서 반갑습니다. 어떻게 도와드릴까요?', additional_kwargs={'refusal': None}, response_metadata={'token_usage': {'completion_tokens': 22, 'prompt_tokens': 15, 'total_tokens': 37, 'completion_tokens_details': {'accepted_prediction_tokens': 0, 'audio_tokens': 0, 'reasoning_tokens': 0, 'rejected_prediction_tokens': 0}, 'prompt_tokens_details': {'audio_tokens': 0, 'cached_tokens': 0}}, 'model_name': 'gpt-4o-mini-2024-07-18', 'system_fingerprint': 'fp_b8bc95a0ac', 'id': 'chatcmpl-BDslfQxE3ngXwcDtWqvyLWabgvjjL', 'finish_reason': 'stop', 'logprobs': None}, id='run-7a3838c1-c157-48aa-bfeb-eac1d00a397b-0', usage_metadata={'input_tokens': 15, 'output_tokens': 22, 'total_tokens': 37, 'input_token_details': {'audio': 0, 'cache_read': 0}, 'output_token_details': {'audio': 0, 'reasoning': 0}}),\n",
       "  HumanMessage(content='제 이름을 아시나요?', additional_kwargs={}, response_metadata={}, id='ed59f112-cd1d-4238-91b0-6542c7209e06'),\n",
       "  AIMessage(content='네, 이성용님이라고 말씀해 주셨습니다. 어떻게 도와드릴까요?', additional_kwargs={'refusal': None}, response_metadata={'token_usage': {'completion_tokens': 21, 'prompt_tokens': 51, 'total_tokens': 72, 'completion_tokens_details': {'accepted_prediction_tokens': 0, 'audio_tokens': 0, 'reasoning_tokens': 0, 'rejected_prediction_tokens': 0}, 'prompt_tokens_details': {'audio_tokens': 0, 'cached_tokens': 0}}, 'model_name': 'gpt-4o-mini-2024-07-18', 'system_fingerprint': 'fp_b8bc95a0ac', 'id': 'chatcmpl-BDsm2zlJuVeL1Db5ifwIWS8G3Ijyy', 'finish_reason': 'stop', 'logprobs': None}, id='run-b20d4209-311b-49aa-9c2a-bd7610570f5d-0', usage_metadata={'input_tokens': 51, 'output_tokens': 21, 'total_tokens': 72, 'input_token_details': {'audio': 0, 'cache_read': 0}, 'output_token_details': {'audio': 0, 'reasoning': 0}})]}"
      ]
     },
     "execution_count": 8,
     "metadata": {},
     "output_type": "execute_result"
    }
   ],
   "source": [
    "response[\"messages\"].append(\"제 이름을 아시나요?\")\n",
    "graph.invoke(response)"
   ]
  },
  {
   "cell_type": "markdown",
   "metadata": {},
   "source": [
    "- stream 출력 하고 싶으면 graph.invoke 대신 graph.stream으로 하면 됩니다. "
   ]
  },
  {
   "cell_type": "code",
   "execution_count": 9,
   "metadata": {},
   "outputs": [
    {
     "name": "stdout",
     "output_type": "stream",
     "text": [
      "한국과 일본의 관계는 역사적으로 복잡하고 다양한 요소에 의해 영향을 받아왔습니다. 두 나라의 관계는 전통적으로 문화, 경제, 정치, 역사적 사건 등 여러 측면에서 형성되어 왔습니다.\n",
      "\n",
      "1. **역사적 배경**:\n",
      "   - **일제 강점기 (1910-1945)**: 한국은 1910년부터 1945년까지 일본의 식민지 지배를 받았습니다. 이 시기에 많은 한국인들이 강제 노동, 문화적 억압, 일본어 강제 교육 등을 경험했으며, 이로 인해 두 나라 간의 감정이 매우 상처받은 상태입니다.\n",
      "   - **제2차 세계대전 이후**: 전쟁이 끝난 후 한국은 1945년에 해방되었고, 1948년에 대한민국이 수립되었습니다. 한국 전쟁(1950-1953) 후에도 일본과의 관계는 냉전 상황 속에서 복잡하게 얽혀 있었습니다.\n",
      "\n",
      "2. **경제적 관계**:\n",
      "   - **교역과 투자**: 1965년 한일기본조약 체결 이후, 한국과 일본 간의 경제적 교류가 활발해졌습니다. 일본은 한국의 주요 투자국이자 교역 파트너 중 하나입니다. 한국의 반도체, 자동차 산업 등에서 일본의 기술과 자본이 중요한 역할을 했습니다.\n",
      "   - **기술 협력**: 두 나라 간의 기술 협력도 매우 중요하며, 특히 전자제품 및 자동차 분야에서 상호 의존적인 관계를 형성하고 있습니다.\n",
      "\n",
      "3. **정치적 관계**:\n",
      "   - **영토 문제**: 독도(일본명: 다케시마)를 둘러싼 영토 분쟁은 두 나라 간의 긴장을 야기하는 주요 원인 중 하나입니다.\n",
      "   - **역사 인식**: 일본의 과거 전쟁 범죄에 대한 인식 차이, 예를 들어 위안부 문제나 강제 징용 문제 등은 여전히 해결되지 않은 주요 이슈로 남아 있습니다. 이러한 이슈들은 국민 감정에 크게 작용하며 양국 관계에 부정적인 영향을 미칩니다.\n",
      "\n",
      "4. **문화적 관계**:\n",
      "   - **문화 교류**: 한국과 일본은 서로의 문화에 대한 관심이 높아져 있으며, K-팝, 드라마, 영화 등 한국의 대중문화가 일본에서 인기를 끌고 있습니다. 반대로 일본의 애니메이션과 만화도 한국에서 큰 인기를 끌고 있습니다.\n",
      "   - **관광**: 양국 간의 관광이 활발하게 이루어지고 있으며, 서로의 역사적 유적지와 문화유산에 대한 관심이 높습니다.\n",
      "\n",
      "5. **현재의 관계**:\n",
      "   - 현재 한국과 일본의 관계는 때때로 긴장 상태에 놓이기도 하지만, 경제적 및 문화적 협력을 통해 상호 의존적인 관계를 계속 구축하고 있습니다. 그러나 역사적 갈등과 정치적 이슈가 여전히 두 나라의 관계에 그림자를 드리우고 있어 지속적인 노력이 필요합니다.\n",
      "\n",
      "결론적으로, 한국과 일본의 관계는 역사적 상처와 현대의 협력 사이에서 여전히 진화하고 있으며, 양국 모두 서로에 대한 이해와 존중을 바탕으로 관계를 개선해 나갈 필요성이 있습니다."
     ]
    }
   ],
   "source": [
    "inputs = {\"messages\": [(\"human\", \"한국과 일본의 관계에 대해 자세히 알려줘\")]}\n",
    "for chunk, _ in graph.stream(inputs, stream_mode=\"messages\"):\n",
    "    print(chunk.content, end=\"\")"
   ]
  },
  {
   "cell_type": "code",
   "execution_count": null,
   "metadata": {},
   "outputs": [],
   "source": []
  }
 ],
 "metadata": {
  "kernelspec": {
   "display_name": "venv",
   "language": "python",
   "name": "python3"
  },
  "language_info": {
   "codemirror_mode": {
    "name": "ipython",
    "version": 3
   },
   "file_extension": ".py",
   "mimetype": "text/x-python",
   "name": "python",
   "nbconvert_exporter": "python",
   "pygments_lexer": "ipython3",
   "version": "3.12.9"
  }
 },
 "nbformat": 4,
 "nbformat_minor": 2
}

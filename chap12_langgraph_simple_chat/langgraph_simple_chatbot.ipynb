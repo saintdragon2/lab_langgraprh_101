{
  "cells": [
    {
      "cell_type": "markdown",
      "metadata": {
        "id": "8TaXqktJS7g4"
      },
      "source": [
        "# 단순한 챗봇을 만들자.\n",
        "## 이 코드에서 알아야 할 개념\n",
        "- State\n",
        "- Node\n",
        "- Edge"
      ]
    },
    {
      "cell_type": "code",
      "execution_count": 1,
      "metadata": {
        "id": "plxj_ZPZS7g5",
        "outputId": "a452ec18-4ca8-4a6e-8d3a-1ad6b4b5ec2f",
        "colab": {
          "base_uri": "https://localhost:8080/"
        }
      },
      "outputs": [
        {
          "output_type": "stream",
          "name": "stdout",
          "text": [
            "Collecting langgraph\n",
            "  Downloading langgraph-0.3.20-py3-none-any.whl.metadata (7.7 kB)\n",
            "Requirement already satisfied: langchain in /usr/local/lib/python3.11/dist-packages (0.3.21)\n",
            "Collecting langchain_openai\n",
            "  Downloading langchain_openai-0.3.11-py3-none-any.whl.metadata (2.3 kB)\n",
            "Requirement already satisfied: langchain-core<0.4,>=0.1 in /usr/local/lib/python3.11/dist-packages (from langgraph) (0.3.47)\n",
            "Collecting langgraph-checkpoint<3.0.0,>=2.0.10 (from langgraph)\n",
            "  Downloading langgraph_checkpoint-2.0.23-py3-none-any.whl.metadata (4.6 kB)\n",
            "Collecting langgraph-prebuilt<0.2,>=0.1.1 (from langgraph)\n",
            "  Downloading langgraph_prebuilt-0.1.7-py3-none-any.whl.metadata (5.0 kB)\n",
            "Collecting langgraph-sdk<0.2.0,>=0.1.42 (from langgraph)\n",
            "  Downloading langgraph_sdk-0.1.59-py3-none-any.whl.metadata (1.8 kB)\n",
            "Collecting xxhash<4.0.0,>=3.5.0 (from langgraph)\n",
            "  Downloading xxhash-3.5.0-cp311-cp311-manylinux_2_17_x86_64.manylinux2014_x86_64.whl.metadata (12 kB)\n",
            "Requirement already satisfied: langchain-text-splitters<1.0.0,>=0.3.7 in /usr/local/lib/python3.11/dist-packages (from langchain) (0.3.7)\n",
            "Requirement already satisfied: langsmith<0.4,>=0.1.17 in /usr/local/lib/python3.11/dist-packages (from langchain) (0.3.18)\n",
            "Requirement already satisfied: pydantic<3.0.0,>=2.7.4 in /usr/local/lib/python3.11/dist-packages (from langchain) (2.10.6)\n",
            "Requirement already satisfied: SQLAlchemy<3,>=1.4 in /usr/local/lib/python3.11/dist-packages (from langchain) (2.0.39)\n",
            "Requirement already satisfied: requests<3,>=2 in /usr/local/lib/python3.11/dist-packages (from langchain) (2.32.3)\n",
            "Requirement already satisfied: PyYAML>=5.3 in /usr/local/lib/python3.11/dist-packages (from langchain) (6.0.2)\n",
            "Collecting langchain-core<0.4,>=0.1 (from langgraph)\n",
            "  Downloading langchain_core-0.3.49-py3-none-any.whl.metadata (5.9 kB)\n",
            "Requirement already satisfied: openai<2.0.0,>=1.68.2 in /usr/local/lib/python3.11/dist-packages (from langchain_openai) (1.68.2)\n",
            "Collecting tiktoken<1,>=0.7 (from langchain_openai)\n",
            "  Downloading tiktoken-0.9.0-cp311-cp311-manylinux_2_17_x86_64.manylinux2014_x86_64.whl.metadata (6.7 kB)\n",
            "Requirement already satisfied: tenacity!=8.4.0,<10.0.0,>=8.1.0 in /usr/local/lib/python3.11/dist-packages (from langchain-core<0.4,>=0.1->langgraph) (9.0.0)\n",
            "Requirement already satisfied: jsonpatch<2.0,>=1.33 in /usr/local/lib/python3.11/dist-packages (from langchain-core<0.4,>=0.1->langgraph) (1.33)\n",
            "Requirement already satisfied: packaging<25,>=23.2 in /usr/local/lib/python3.11/dist-packages (from langchain-core<0.4,>=0.1->langgraph) (24.2)\n",
            "Requirement already satisfied: typing-extensions>=4.7 in /usr/local/lib/python3.11/dist-packages (from langchain-core<0.4,>=0.1->langgraph) (4.12.2)\n",
            "Collecting ormsgpack<2.0.0,>=1.8.0 (from langgraph-checkpoint<3.0.0,>=2.0.10->langgraph)\n",
            "  Downloading ormsgpack-1.9.0-cp311-cp311-manylinux_2_17_x86_64.manylinux2014_x86_64.whl.metadata (43 kB)\n",
            "\u001b[2K     \u001b[90m━━━━━━━━━━━━━━━━━━━━━━━━━━━━━━━━━━━━━━━━\u001b[0m \u001b[32m43.5/43.5 kB\u001b[0m \u001b[31m1.4 MB/s\u001b[0m eta \u001b[36m0:00:00\u001b[0m\n",
            "\u001b[?25hRequirement already satisfied: httpx>=0.25.2 in /usr/local/lib/python3.11/dist-packages (from langgraph-sdk<0.2.0,>=0.1.42->langgraph) (0.28.1)\n",
            "Requirement already satisfied: orjson>=3.10.1 in /usr/local/lib/python3.11/dist-packages (from langgraph-sdk<0.2.0,>=0.1.42->langgraph) (3.10.15)\n",
            "Requirement already satisfied: requests-toolbelt<2.0.0,>=1.0.0 in /usr/local/lib/python3.11/dist-packages (from langsmith<0.4,>=0.1.17->langchain) (1.0.0)\n",
            "Requirement already satisfied: zstandard<0.24.0,>=0.23.0 in /usr/local/lib/python3.11/dist-packages (from langsmith<0.4,>=0.1.17->langchain) (0.23.0)\n",
            "Requirement already satisfied: anyio<5,>=3.5.0 in /usr/local/lib/python3.11/dist-packages (from openai<2.0.0,>=1.68.2->langchain_openai) (4.9.0)\n",
            "Requirement already satisfied: distro<2,>=1.7.0 in /usr/local/lib/python3.11/dist-packages (from openai<2.0.0,>=1.68.2->langchain_openai) (1.9.0)\n",
            "Requirement already satisfied: jiter<1,>=0.4.0 in /usr/local/lib/python3.11/dist-packages (from openai<2.0.0,>=1.68.2->langchain_openai) (0.9.0)\n",
            "Requirement already satisfied: sniffio in /usr/local/lib/python3.11/dist-packages (from openai<2.0.0,>=1.68.2->langchain_openai) (1.3.1)\n",
            "Requirement already satisfied: tqdm>4 in /usr/local/lib/python3.11/dist-packages (from openai<2.0.0,>=1.68.2->langchain_openai) (4.67.1)\n",
            "Requirement already satisfied: annotated-types>=0.6.0 in /usr/local/lib/python3.11/dist-packages (from pydantic<3.0.0,>=2.7.4->langchain) (0.7.0)\n",
            "Requirement already satisfied: pydantic-core==2.27.2 in /usr/local/lib/python3.11/dist-packages (from pydantic<3.0.0,>=2.7.4->langchain) (2.27.2)\n",
            "Requirement already satisfied: charset-normalizer<4,>=2 in /usr/local/lib/python3.11/dist-packages (from requests<3,>=2->langchain) (3.4.1)\n",
            "Requirement already satisfied: idna<4,>=2.5 in /usr/local/lib/python3.11/dist-packages (from requests<3,>=2->langchain) (3.10)\n",
            "Requirement already satisfied: urllib3<3,>=1.21.1 in /usr/local/lib/python3.11/dist-packages (from requests<3,>=2->langchain) (2.3.0)\n",
            "Requirement already satisfied: certifi>=2017.4.17 in /usr/local/lib/python3.11/dist-packages (from requests<3,>=2->langchain) (2025.1.31)\n",
            "Requirement already satisfied: greenlet!=0.4.17 in /usr/local/lib/python3.11/dist-packages (from SQLAlchemy<3,>=1.4->langchain) (3.1.1)\n",
            "Requirement already satisfied: regex>=2022.1.18 in /usr/local/lib/python3.11/dist-packages (from tiktoken<1,>=0.7->langchain_openai) (2024.11.6)\n",
            "Requirement already satisfied: httpcore==1.* in /usr/local/lib/python3.11/dist-packages (from httpx>=0.25.2->langgraph-sdk<0.2.0,>=0.1.42->langgraph) (1.0.7)\n",
            "Requirement already satisfied: h11<0.15,>=0.13 in /usr/local/lib/python3.11/dist-packages (from httpcore==1.*->httpx>=0.25.2->langgraph-sdk<0.2.0,>=0.1.42->langgraph) (0.14.0)\n",
            "Requirement already satisfied: jsonpointer>=1.9 in /usr/local/lib/python3.11/dist-packages (from jsonpatch<2.0,>=1.33->langchain-core<0.4,>=0.1->langgraph) (3.0.0)\n",
            "Downloading langgraph-0.3.20-py3-none-any.whl (137 kB)\n",
            "\u001b[2K   \u001b[90m━━━━━━━━━━━━━━━━━━━━━━━━━━━━━━━━━━━━━━━━\u001b[0m \u001b[32m137.9/137.9 kB\u001b[0m \u001b[31m2.7 MB/s\u001b[0m eta \u001b[36m0:00:00\u001b[0m\n",
            "\u001b[?25hDownloading langchain_openai-0.3.11-py3-none-any.whl (60 kB)\n",
            "\u001b[2K   \u001b[90m━━━━━━━━━━━━━━━━━━━━━━━━━━━━━━━━━━━━━━━━\u001b[0m \u001b[32m60.1/60.1 kB\u001b[0m \u001b[31m1.8 MB/s\u001b[0m eta \u001b[36m0:00:00\u001b[0m\n",
            "\u001b[?25hDownloading langchain_core-0.3.49-py3-none-any.whl (420 kB)\n",
            "\u001b[2K   \u001b[90m━━━━━━━━━━━━━━━━━━━━━━━━━━━━━━━━━━━━━━━━\u001b[0m \u001b[32m420.1/420.1 kB\u001b[0m \u001b[31m11.9 MB/s\u001b[0m eta \u001b[36m0:00:00\u001b[0m\n",
            "\u001b[?25hDownloading langgraph_checkpoint-2.0.23-py3-none-any.whl (41 kB)\n",
            "\u001b[2K   \u001b[90m━━━━━━━━━━━━━━━━━━━━━━━━━━━━━━━━━━━━━━━━\u001b[0m \u001b[32m41.9/41.9 kB\u001b[0m \u001b[31m1.6 MB/s\u001b[0m eta \u001b[36m0:00:00\u001b[0m\n",
            "\u001b[?25hDownloading langgraph_prebuilt-0.1.7-py3-none-any.whl (25 kB)\n",
            "Downloading langgraph_sdk-0.1.59-py3-none-any.whl (47 kB)\n",
            "\u001b[2K   \u001b[90m━━━━━━━━━━━━━━━━━━━━━━━━━━━━━━━━━━━━━━━━\u001b[0m \u001b[32m47.0/47.0 kB\u001b[0m \u001b[31m2.4 MB/s\u001b[0m eta \u001b[36m0:00:00\u001b[0m\n",
            "\u001b[?25hDownloading tiktoken-0.9.0-cp311-cp311-manylinux_2_17_x86_64.manylinux2014_x86_64.whl (1.2 MB)\n",
            "\u001b[2K   \u001b[90m━━━━━━━━━━━━━━━━━━━━━━━━━━━━━━━━━━━━━━━━\u001b[0m \u001b[32m1.2/1.2 MB\u001b[0m \u001b[31m20.1 MB/s\u001b[0m eta \u001b[36m0:00:00\u001b[0m\n",
            "\u001b[?25hDownloading xxhash-3.5.0-cp311-cp311-manylinux_2_17_x86_64.manylinux2014_x86_64.whl (194 kB)\n",
            "\u001b[2K   \u001b[90m━━━━━━━━━━━━━━━━━━━━━━━━━━━━━━━━━━━━━━━━\u001b[0m \u001b[32m194.8/194.8 kB\u001b[0m \u001b[31m9.2 MB/s\u001b[0m eta \u001b[36m0:00:00\u001b[0m\n",
            "\u001b[?25hDownloading ormsgpack-1.9.0-cp311-cp311-manylinux_2_17_x86_64.manylinux2014_x86_64.whl (223 kB)\n",
            "\u001b[2K   \u001b[90m━━━━━━━━━━━━━━━━━━━━━━━━━━━━━━━━━━━━━━━━\u001b[0m \u001b[32m223.7/223.7 kB\u001b[0m \u001b[31m11.1 MB/s\u001b[0m eta \u001b[36m0:00:00\u001b[0m\n",
            "\u001b[?25hInstalling collected packages: xxhash, ormsgpack, tiktoken, langgraph-sdk, langchain-core, langgraph-checkpoint, langchain_openai, langgraph-prebuilt, langgraph\n",
            "  Attempting uninstall: langchain-core\n",
            "    Found existing installation: langchain-core 0.3.47\n",
            "    Uninstalling langchain-core-0.3.47:\n",
            "      Successfully uninstalled langchain-core-0.3.47\n",
            "Successfully installed langchain-core-0.3.49 langchain_openai-0.3.11 langgraph-0.3.20 langgraph-checkpoint-2.0.23 langgraph-prebuilt-0.1.7 langgraph-sdk-0.1.59 ormsgpack-1.9.0 tiktoken-0.9.0 xxhash-3.5.0\n"
          ]
        }
      ],
      "source": [
        "%pip install langgraph langchain langchain_openai"
      ]
    },
    {
      "cell_type": "code",
      "execution_count": 4,
      "metadata": {
        "id": "Ru7-gE5zS7g6",
        "outputId": "37132f81-1446-452d-ecb9-56e027d0c6d2",
        "colab": {
          "base_uri": "https://localhost:8080/"
        }
      },
      "outputs": [
        {
          "output_type": "stream",
          "name": "stdout",
          "text": [
            "AIMessage(content='안녕하세요! 어떻게 도와드릴까요?', additional_kwargs={'refusal': None}, response_metadata={'token_usage': {'completion_tokens': 11, 'prompt_tokens': 10, 'total_tokens': 21, 'completion_tokens_details': {'accepted_prediction_tokens': 0, 'audio_tokens': 0, 'reasoning_tokens': 0, 'rejected_prediction_tokens': 0}, 'prompt_tokens_details': {'audio_tokens': 0, 'cached_tokens': 0}}, 'model_name': 'gpt-4o-mini-2024-07-18', 'system_fingerprint': 'fp_b376dfbbd5', 'id': 'chatcmpl-BFX2x97sxblkJFEpyuaHzZP7C65dO', 'finish_reason': 'stop', 'logprobs': None}, id='run-e7cdf9d5-b550-4c36-9868-77dea7a9058f-0', usage_metadata={'input_tokens': 10, 'output_tokens': 11, 'total_tokens': 21, 'input_token_details': {'audio': 0, 'cache_read': 0}, 'output_token_details': {'audio': 0, 'reasoning': 0}})\n"
          ]
        }
      ],
      "source": [
        "from langchain_openai import ChatOpenAI\n",
        "from langchain_core.messages import HumanMessage\n",
        "from pprint import pprint\n",
        "\n",
        "# 모델 초기화\n",
        "llm = ChatOpenAI(model=\"gpt-4o-mini\")\n",
        "\n",
        "result = llm.invoke([\n",
        "    HumanMessage(content=\"안녕하세요!\"),\n",
        "])\n",
        "\n",
        "pprint(result)"
      ]
    },
    {
      "cell_type": "markdown",
      "metadata": {
        "id": "cNKmAU8XS7g7"
      },
      "source": [
        "## STATE\n",
        "- 현재 상태를 담아두기 위해 사용"
      ]
    },
    {
      "cell_type": "code",
      "execution_count": 5,
      "metadata": {
        "id": "fxaZKIbVS7g7"
      },
      "outputs": [],
      "source": [
        "from typing import Annotated # annotated는 타입 힌트를 사용할 때 사용하는 함수\n",
        "from typing_extensions import TypedDict # TypedDict는 딕셔너리 타입을 정의할 때 사용하는 함수\n",
        "\n",
        "from langgraph.graph import StateGraph, START, END\n",
        "from langgraph.graph.message import add_messages\n",
        "\n",
        "class State(TypedDict):\t#①\n",
        "    \"\"\"\n",
        "    State 클래스는 TypedDict를 상속받습니다.\n",
        "\n",
        "    속성:\n",
        "        messages (Annotated[list[str], add_messages]): 메시지들은 \"list\" 타입을 가집니다.   #②\n",
        "       'add_messages' 함수는 이 상태 키가 어떻게 업데이트되어야 하는지를 정의합니다.  #③\n",
        "        (이 경우, 메시지를 덮어쓰는 대신 리스트에 추가합니다)\n",
        "    \"\"\"\n",
        "    messages: Annotated[list[str], add_messages]\t#②\n",
        "\n",
        "# StateGraph 클래스를 사용하여 State 타입의 그래프를 생성합니다.\n",
        "graph_builder = StateGraph(State) #④"
      ]
    },
    {
      "cell_type": "markdown",
      "metadata": {
        "id": "mSaW-C3PS7g7"
      },
      "source": [
        "## Node\n",
        "- 하나의 에이전트라고 봐도 무방"
      ]
    },
    {
      "cell_type": "code",
      "execution_count": 6,
      "metadata": {
        "id": "cjzRxlsnS7g8",
        "outputId": "0e42a9e6-637f-40f7-8639-8bc539d494a5",
        "colab": {
          "base_uri": "https://localhost:8080/"
        }
      },
      "outputs": [
        {
          "output_type": "execute_result",
          "data": {
            "text/plain": [
              "<langgraph.graph.state.StateGraph at 0x7cd25a177810>"
            ]
          },
          "metadata": {},
          "execution_count": 6
        }
      ],
      "source": [
        "def generate(state: State):\t#①\n",
        "    \"\"\"\n",
        "    주어진 상태를 기반으로 챗봇의 응답 메시지를 생성합니다.\n",
        "\n",
        "    매개변수:\n",
        "    state (State): 현재 대화 상태를 나타내는 객체로, 이전 메시지들이 포함되어 있습니다.\n",
        "\n",
        "    반환값:\n",
        "    dict: 모델이 생성한 응답 메시지를 포함하는 딕셔너리.\n",
        "          형식은 {\"messages\": [응답 메시지]}입니다.\n",
        "    \"\"\"\n",
        "    return {\"messages\": [llm.invoke(state[\"messages\"])]}\t#② llm이 생성한 응답메시지를 state에 추가하고 반환\n",
        "\n",
        "graph_builder.add_node(\"generate\", generate)\t#③"
      ]
    },
    {
      "cell_type": "markdown",
      "metadata": {
        "id": "Mpb7sRzHS7g8"
      },
      "source": [
        "## LangGraph라 부르는 이유:\n",
        "- 각각의 agent (node)를 edge로 연결하는 방식이기 때문.\n",
        "- 이번 예제는 START - generate - END 로 간략한 형태\n",
        "\n",
        "\n",
        "### Edge"
      ]
    },
    {
      "cell_type": "code",
      "execution_count": 7,
      "metadata": {
        "id": "s2yZyzLlS7g8"
      },
      "outputs": [],
      "source": [
        "graph_builder.add_edge(START, \"generate\")\n",
        "graph_builder.add_edge(\"generate\", END)\n",
        "\n",
        "graph = graph_builder.compile()"
      ]
    },
    {
      "cell_type": "code",
      "execution_count": 8,
      "metadata": {
        "id": "4yX57S_rS7g8",
        "outputId": "96082b26-19f2-445c-f82e-346654965eb3",
        "colab": {
          "base_uri": "https://localhost:8080/",
          "height": 251
        }
      },
      "outputs": [
        {
          "output_type": "display_data",
          "data": {
            "image/png": "[encoded data removed]",
            "text/plain": [
              "<IPython.core.display.Image object>"
            ]
          },
          "metadata": {}
        }
      ],
      "source": [
        "from IPython.display import Image, display\n",
        "\n",
        "try:\n",
        "    display(Image(graph.get_graph().draw_mermaid_png()))\n",
        "except Exception:\n",
        "    pass"
      ]
    },
    {
      "cell_type": "code",
      "execution_count": 12,
      "metadata": {
        "id": "sBnQ6R1IS7g8",
        "outputId": "3a7a532d-8a0e-490a-a199-add6a385b08e",
        "colab": {
          "base_uri": "https://localhost:8080/"
        }
      },
      "outputs": [
        {
          "output_type": "stream",
          "name": "stdout",
          "text": [
            "<class 'langgraph.pregel.io.AddableValuesDict'>\n"
          ]
        },
        {
          "output_type": "execute_result",
          "data": {
            "text/plain": [
              "{'messages': [HumanMessage(content='안녕하세요! 저는 이성용입니다', additional_kwargs={}, response_metadata={}, id='8ee1a26a-28c9-49ce-a1e5-3f957ece799c'),\n",
              "  AIMessage(content='안녕하세요, 이성용님! 만나서 반갑습니다. 어떻게 도와드릴까요?', additional_kwargs={'refusal': None}, response_metadata={'token_usage': {'completion_tokens': 22, 'prompt_tokens': 15, 'total_tokens': 37, 'completion_tokens_details': {'accepted_prediction_tokens': 0, 'audio_tokens': 0, 'reasoning_tokens': 0, 'rejected_prediction_tokens': 0}, 'prompt_tokens_details': {'audio_tokens': 0, 'cached_tokens': 0}}, 'model_name': 'gpt-4o-mini-2024-07-18', 'system_fingerprint': 'fp_b376dfbbd5', 'id': 'chatcmpl-BFX4bRKP0li5nm3kUzSGlhiIy0iQb', 'finish_reason': 'stop', 'logprobs': None}, id='run-256b6755-d559-4484-9509-a43572647fb6-0', usage_metadata={'input_tokens': 15, 'output_tokens': 22, 'total_tokens': 37, 'input_token_details': {'audio': 0, 'cache_read': 0}, 'output_token_details': {'audio': 0, 'reasoning': 0}})]}"
            ]
          },
          "metadata": {},
          "execution_count": 12
        }
      ],
      "source": [
        "response = graph.invoke({\"messages\": [\"안녕하세요! 저는 이성용입니다\"]})\n",
        "\n",
        "print(type(response))\n",
        "response"
      ]
    },
    {
      "cell_type": "code",
      "source": [
        "for m in response['messages']:\n",
        "    print(type(m), m.content)"
      ],
      "metadata": {
        "id": "itgusgZ0Yn-H",
        "outputId": "4a5cd1fb-abb3-47fa-d9dc-f30fbf6bfff7",
        "colab": {
          "base_uri": "https://localhost:8080/"
        }
      },
      "execution_count": 15,
      "outputs": [
        {
          "output_type": "stream",
          "name": "stdout",
          "text": [
            "<class 'langchain_core.messages.human.HumanMessage'> 안녕하세요! 저는 이성용입니다\n",
            "<class 'langchain_core.messages.ai.AIMessage'> 안녕하세요, 이성용님! 만나서 반갑습니다. 어떻게 도와드릴까요?\n"
          ]
        }
      ]
    },
    {
      "cell_type": "code",
      "execution_count": 16,
      "metadata": {
        "id": "CAIWOq6SS7g9",
        "outputId": "af5bccf5-13b0-4a9b-c2e9-c6dd877230e6",
        "colab": {
          "base_uri": "https://localhost:8080/"
        }
      },
      "outputs": [
        {
          "output_type": "stream",
          "name": "stdout",
          "text": [
            "<class 'langchain_core.messages.human.HumanMessage'> 안녕하세요! 저는 이성용입니다\n",
            "<class 'langchain_core.messages.ai.AIMessage'> 안녕하세요, 이성용님! 만나서 반갑습니다. 어떻게 도와드릴까요?\n",
            "<class 'langchain_core.messages.human.HumanMessage'> 제 이름을 아시나요?\n",
            "<class 'langchain_core.messages.ai.AIMessage'> 네, 이성용님이라고 말씀하셨습니다. 다른 궁금한 점이나 이야기하고 싶은 것이 있으신가요?\n"
          ]
        }
      ],
      "source": [
        "response[\"messages\"].append(\"제 이름을 아시나요?\")\n",
        "response = graph.invoke(response)\n",
        "\n",
        "for m in response['messages']:\n",
        "    print(type(m), m.content)"
      ]
    },
    {
      "cell_type": "markdown",
      "metadata": {
        "id": "qIDZXlC2S7g9"
      },
      "source": [
        "- stream 출력 하고 싶으면 graph.invoke 대신 graph.stream으로 하면 됩니다."
      ]
    },
    {
      "cell_type": "code",
      "execution_count": 17,
      "metadata": {
        "id": "Pideq-PpS7g9",
        "outputId": "d816741b-d1d9-4c58-cca7-0e56d232e2fc",
        "colab": {
          "base_uri": "https://localhost:8080/"
        }
      },
      "outputs": [
        {
          "output_type": "stream",
          "name": "stdout",
          "text": [
            "한국과 일본의 관계는 역사적으로 복잡하고 다양합니다. 두 나라 간의 관계는 여러 측면에서 영향을 받고 있습니다. 여기서는 역사적, 정치적, 경제적, 문화적 측면에서 한국과 일본의 관계를 살펴보겠습니다.\n",
            "\n",
            "### 1. 역사적 배경\n",
            "- **고대 및 중세**: 한국과 일본은 고대부터 교류가 있었습니다. 일본은 한국의 고대 문명과 문화의 영향을 받았으며, 특히 한자로써 기록된 문서들이 서로의 문화 교류를 증명합니다.\n",
            "  \n",
            "- **일제 강점기**: 1910년부터 1945년까지 일본은 한국을 식민지로 통치했습니다. 이 시기는 한국에 있어 매우 아픈 역사로, 일본의 강제 동원, 자원 착취, 문화 말살 등이 일어났습니다. 이로 인해 한국 내에는 일본에 대한 감정이 부정적이며, 이러한 역사적 경험은 현재까지도 두 국가 간의 관계에 깊은 영향을 미치고 있습니다.\n",
            "\n",
            "### 2. 정치적 관점\n",
            "- **관계 개선 노력**: 1965년 한일 기본 조약을 통해 양국은 공식적으로 외교 관계를 재정립하였습니다. 그러나 과거 역사 문제, 특히 위안부와 강제 노동 문제 등은 여전히 갈등의 원인이 되고 있습니다.\n",
            "\n",
            "- **최근 상황**: 한국과 일본의 정치적 관계는 여러 차례 긴장을 겪었습니다. 특히 2019년 일본의 수출 규제 조치와 그에 따른 한국의 반발이 두 나라 간의 관계를 더욱 악화시켰습니다.\n",
            "\n",
            "### 3. 경제적 관계\n",
            "- **무역**: 한국과 일본은 서로에게 중요한 무역 파트너입니다. 일본은 한국의 중요한 수입국이며, 한국은 일본에 대한 여러 산업 제품의 수출국입니다. 그러나 정치적 긴장이 경제 협력에도 부정적인 영향을 미치기도 합니다.\n",
            "\n",
            "- **기술 협력**: 양국은 기술 및 산업 분야에서 협력할 수 있는 잠재력이 크지만, 정치적 이슈로 인해 이를 최대한 활용하지 못하는 경우가 많습니다.\n",
            "\n",
            "### 4. 문화적 교류\n",
            "- **문화 및 대중문화**: 최근 몇 년간 한국의 K-pop, 드라마 등이 일본에서 큰 인기를 얻고 있습니다. 이러한 문화적 교류는 양국 관계 개선에 긍정적인 역할을 하고 있습니다.\n",
            "\n",
            "- **관광 및 교류 프로그램**: 각국의 관광객이 서로를 방문하며 문화적 이해를 증진시키려는 노력이 있습니다. 그러나 정치적 갈등이 심화될 경우 관광객 수가 감소하는 경향이 있습니다.\n",
            "\n",
            "### 결론\n",
            "한국과 일본의 관계는 역사적 상처와 갈등, 그리고 문화적 교류와 경제적 협력의 복합적 요소로 이루어져 있습니다. 두 나라는 서로의 역사와 문화를 이해하고, 긍정적인 관계를 유지하기 위해 노력해야 할 필요성이 있습니다. 이러한 관계 개선이 이루어질 경우, 아시아 지역 내에서의 평화와 번영에 기여할 수 있을 것입니다."
          ]
        }
      ],
      "source": [
        "inputs = {\"messages\": [(\"human\", \"한국과 일본의 관계에 대해 자세히 알려줘\")]}\n",
        "for chunk, _ in graph.stream(inputs, stream_mode=\"messages\"):\n",
        "    print(chunk.content, end=\"\")"
      ]
    },
    {
      "cell_type": "code",
      "execution_count": null,
      "metadata": {
        "id": "w1S3HhyPS7g9"
      },
      "outputs": [],
      "source": []
    }
  ],
  "metadata": {
    "kernelspec": {
      "display_name": "venv",
      "language": "python",
      "name": "python3"
    },
    "language_info": {
      "codemirror_mode": {
        "name": "ipython",
        "version": 3
      },
      "file_extension": ".py",
      "mimetype": "text/x-python",
      "name": "python",
      "nbconvert_exporter": "python",
      "pygments_lexer": "ipython3",
      "version": "3.12.9"
    },
    "colab": {
      "provenance": []
    }
  },
  "nbformat": 4,
  "nbformat_minor": 0
}